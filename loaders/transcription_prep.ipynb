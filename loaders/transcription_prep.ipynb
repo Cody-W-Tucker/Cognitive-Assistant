{
 "cells": [
  {
   "cell_type": "code",
   "execution_count": 3,
   "metadata": {},
   "outputs": [
    {
     "name": "stdout",
     "output_type": "stream",
     "text": [
      "Text cleaned and saved to 'cleaned_transcription.txt'.\n"
     ]
    }
   ],
   "source": [
    "import re\n",
    "\n",
    "\n",
    "def clean_text(text):\n",
    "    # Convert text to lowercase\n",
    "    text = text.lower()\n",
    "\n",
    "    # Remove extra whitespace\n",
    "    text = re.sub(r\"\\s+\", \" \", text)\n",
    "\n",
    "    # Remove punctuation (except apostrophes)\n",
    "    text = re.sub(r\"[^\\w\\s\\']\", \"\", text)\n",
    "\n",
    "    return text\n",
    "\n",
    "\n",
    "# Read the text file\n",
    "with open(\"Tuesday at 9-49 AM.txt\", \"r\") as file:\n",
    "    original_text = file.read()\n",
    "\n",
    "# Clean the text\n",
    "cleaned_text = clean_text(original_text)\n",
    "\n",
    "# Write the cleaned text to a new file\n",
    "with open(\"cleaned_transcription.txt\", \"w\") as file:\n",
    "    file.write(cleaned_text)\n",
    "\n",
    "print(\"Text cleaned and saved to 'cleaned_transcription.txt'.\")"
   ]
  }
 ],
 "metadata": {
  "kernelspec": {
   "display_name": ".venv",
   "language": "python",
   "name": "python3"
  },
  "language_info": {
   "codemirror_mode": {
    "name": "ipython",
    "version": 3
   },
   "file_extension": ".py",
   "mimetype": "text/x-python",
   "name": "python",
   "nbconvert_exporter": "python",
   "pygments_lexer": "ipython3",
   "version": "3.11.8"
  }
 },
 "nbformat": 4,
 "nbformat_minor": 2
}
