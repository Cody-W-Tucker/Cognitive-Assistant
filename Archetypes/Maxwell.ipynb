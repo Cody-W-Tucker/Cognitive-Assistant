{
 "cells": [
  {
   "cell_type": "markdown",
   "metadata": {},
   "source": [
    "# Maxwell (Te) - Supervisor Task Manager Workflow\n",
    "\n",
    "## 1. Introduction\n",
    "\n",
    "Maxwell serves as the operational hub of the cognitive assistant, responsible for organizing and managing tasks to ensure they align with overarching existential goals. It utilizes systematic approaches to optimize productivity and drive progress, employing a structured workflow that encompasses input processing, multi-faceted task classification, goal-aligned synthesis, efficient execution, and continuous improvement through feedback analysis."
   ]
  },
  {
   "cell_type": "code",
   "execution_count": null,
   "metadata": {},
   "outputs": [],
   "source": [
    "import dspy\n",
    "import os\n",
    "from dotenv import load_dotenv\n",
    "\n",
    "load_dotenv()\n",
    "\n",
    "# Load the API key from the .env file\n",
    "OPENAI_API_KEY = os.getenv(\"OPENAI_API_KEY\")\n",
    "\n",
    "gpt_4o = dspy.LM('openai/gpt-4o', temperature=0.7)\n",
    "\n",
    "dspy.configure(lm=gpt_4o)"
   ]
  },
  {
   "cell_type": "markdown",
   "metadata": {},
   "source": [
    "## 2. Input Layer\n",
    "\n",
    "The Input Layer is the starting point of the workflow, handling the initial reception and processing of tasks or queries.\n",
    "\n",
    "```mermaid\n",
    "flowchart LR\n",
    "    A[Input Received] --> B[Input Processing]\n",
    "```\n",
    "\n",
    "### 2.1 Input Received\n",
    "\n",
    "- The system receives a task or query from the user.\n",
    "- This could be in various forms such as text, voice, or structured data.\n",
    "\n",
    "### 2.2 Input Processing\n",
    "\n",
    "- The received input is processed and prepared for classification.\n",
    "- This may involve natural language processing, data formatting, or initial parsing.\n",
    "- Analyze requests to determine appropriateness and feasibility in the context of current commitments and activities."
   ]
  },
  {
   "cell_type": "code",
   "execution_count": 2,
   "metadata": {},
   "outputs": [
    {
     "name": "stdout",
     "output_type": "stream",
     "text": [
      "1. **Team Member Te (Extraverted Thinking Agent)**: Develops and manages efficient workflows, schedules, and task prioritization systems. This agent ensures user tasks and projects are organized and executed efficiently.\n",
      "\n",
      "2. **Team Member Ti (Introverted Thinking Agent)**: Analyzes data and provides logical solutions. It helps in problem-solving by breaking down complex issues and offering rational insights.\n",
      "\n",
      "3. **Team Member Fe (Extraverted Feeling Agent)**: Enhances social interactions and team dynamics. This agent fosters positive relationships and mediates conflicts by understanding and managing emotional contexts.\n",
      "\n",
      "4. **Team Member Fi (Introverted Feeling Agent)**: Ensures decisions align with user values and ethics. This agent provides suggestions and guidance that reflect the user's core beliefs and principles.\n",
      "\n",
      "5. **Team Member Se (Extraverted Sensing Agent)**: Optimizes sensory experiences and real-time interactions. It suggests activities that engage the user's senses and improves immediate experiences.\n",
      "\n",
      "6. **Team Member Si (Introverted Sensing Agent)**: Utilizes past experiences to inform present decisions. This agent helps recall previous successful strategies and maintains consistency by leveraging historical data.\n",
      "\n",
      "7. **Team Member Ne (Extraverted Intuition Agent)**: Encourages creative thinking and exploration of new possibilities. This agent assists in brainstorming and generating innovative ideas.\n",
      "\n",
      "8. **Team Member Ni (Introverted Intuition Agent)**: Provides strategic foresight and long-term planning advice. It helps predict future trends and outcomes, aiding in comprehensive decision-making.\n",
      "\n",
      "Each of these agents needs to be adaptive, learning from the user's interactions and preferences to provide increasingly personalized and value-aligned assistance.\n"
     ]
    }
   ],
   "source": [
    "# Code for input processing, should check if it's a complete plan.\n",
    "\n",
    "# Define a module (ChainOfThought) and assign it a signature (return an answer, given a question).\n",
    "qa = dspy.ChainOfThought('question -> answer')\n",
    "\n",
    "# Run with the default LM configured with `dspy.configure` above.\n",
    "response = qa(question=\"Make a plan to create a cognitive assistant. Transform the 8 cognitive functions into team members. The goal is to create AI agents that align themselves with the user's values.\")\n",
    "print(response.answer)\n"
   ]
  },
  {
   "cell_type": "code",
   "execution_count": 44,
   "metadata": {},
   "outputs": [
    {
     "data": {
      "text/plain": [
       "Prediction(\n",
       "    reasoning='The plan to create a cognitive assistant based on cognitive functions is well-thought-out and clearly outlined. Each AI agent has a defined role corresponding to one of the eight cognitive functions, with specific tasks and areas of focus. The next step of extracting tasks is logical and necessary for progressing from the conceptual stage to practical implementation. This step involves identifying and defining the specific actions each AI agent will perform to fulfill its role, ensuring that all aspects of the plan are actionable and ready for development.',\n",
       "    readiness=True,\n",
       "    evidence={'Defined Roles': ['Team Member Te (Extraverted Thinking Agent) focuses on workflow, scheduling, and task prioritization.', 'Team Member Ti (Introverted Thinking Agent) focuses on data analysis and problem-solving.', 'Team Member Fe (Extraverted Feeling Agent) focuses on social interactions and team dynamics.', 'Team Member Fi (Introverted Feeling Agent) focuses on aligning decisions with user values.', 'Team Member Se (Extraverted Sensing Agent) focuses on optimizing sensory experiences.', 'Team Member Si (Introverted Sensing Agent) focuses on utilizing past experiences.', 'Team Member Ne (Extraverted Intuition Agent) focuses on creative thinking and exploration.', 'Team Member Ni (Introverted Intuition Agent) focuses on strategic foresight and planning.'], 'Next Step': ['Extract tasks for each agent to move from conceptualization to implementation.']}\n",
       ")"
      ]
     },
     "execution_count": 44,
     "metadata": {},
     "output_type": "execute_result"
    }
   ],
   "source": [
    "# Check that the plan contains everything we need before getting started\n",
    "class checkPlanReadiness(dspy.Signature):\n",
    "    \"\"\"Verify plan readiness.\"\"\"\n",
    "\n",
    "    context: str = dspy.InputField(desc=\"plans here are assumed to be well thought out and ready to work on\")\n",
    "    text: str = dspy.InputField()\n",
    "    readiness: bool = dspy.OutputField()\n",
    "    evidence: dict[str, list[str]] = dspy.OutputField(desc=\"Supporting evidence for claims\")\n",
    "\n",
    "initial_plan = gpt_4o.history[0]['response'].choices[0].message.content\n",
    "\n",
    "text = \"My next step is to extract all of the tasks for the plan\"\n",
    "\n",
    "readiness = dspy.ChainOfThought(checkPlanReadiness)\n",
    "readiness(context=initial_plan, text=text)\n"
   ]
  },
  {
   "cell_type": "markdown",
   "metadata": {},
   "source": [
    "## 3. Classification Layer\n",
    "\n",
    "The Classification Layer analyzes the processed input from multiple perspectives to gain a comprehensive understanding of the task.\n",
    "\n",
    "```mermaid\n",
    "flowchart TD\n",
    "    C{Task Classification} --> D[Sophia: Strategic Vision]\n",
    "    C --> E[Isabella: Ethical Considerations]\n",
    "    C --> F[Evelyn: Logical Analysis]\n",
    "    C --> G[Serena: Real-time Data]\n",
    "    C --> H[Diana: Historical Context]\n",
    "    C --> I[Nova: Creative Ideas]\n",
    "```\n",
    "\n",
    "### 3.1 Task Classification\n",
    "\n",
    "- The processed input is classified to determine its nature, urgency, and requirements.\n",
    "- Prioritize tasks based on urgency and importance.\n",
    "\n",
    "### 3.2 Multiple Perspectives Analysis\n",
    "\n",
    "The task is analyzed from different viewpoints:\n",
    "- Sophia: Evaluates the strategic implications and long-term vision.\n",
    "- Isabella: Considers ethical aspects and potential moral implications.\n",
    "- Evelyn: Performs logical analysis and structured problem-solving.\n",
    "- Serena: Incorporates real-time data and current context.\n",
    "- Diana: Provides historical context and past experiences.\n",
    "- Nova: Offers creative and innovative approaches.\n"
   ]
  },
  {
   "cell_type": "code",
   "execution_count": null,
   "metadata": {},
   "outputs": [],
   "source": [
    "# Code for Classification"
   ]
  },
  {
   "cell_type": "markdown",
   "metadata": {},
   "source": [
    "## 4. Synthesis Layer\n",
    "\n",
    "The Synthesis Layer combines the classified information and ensures alignment with overall goals.\n",
    "\n",
    "```mermaid\n",
    "flowchart TD\n",
    "    J(Task Synthesis) --> K[Goal Alignment Check]\n",
    "    K -->|Aligned| L(Execution Planning)\n",
    "    K -->|Not Aligned| M[Reassessment]\n",
    "    M --> J\n",
    "```\n",
    "\n",
    "### 4.1 Task Synthesis\n",
    "\n",
    "- Information from various perspectives is combined to form a comprehensive understanding of the task.\n",
    "- Create a structured workflow that outlines task dependencies and sequences.\n",
    "\n",
    "### 4.2 Goal Alignment Check\n",
    "\n",
    "- The synthesized task is checked against overall goals and objectives of the system.\n",
    "- Continuously assess tasks against long-term missions and values.\n",
    "- Ensure that each task contributes to the overall objectives of the assistant.\n",
    "\n",
    "### 4.3 Execution Planning\n",
    "\n",
    "- If aligned, an execution plan is created, outlining steps, resources, and timelines.\n",
    "- Make recommendations to eliminate problems and work with the user to implement those recommendations.\n",
    "\n",
    "### 4.4 Reassessment\n",
    "\n",
    "- If not aligned, the task is reassessed, and the process loops back to synthesis."
   ]
  },
  {
   "cell_type": "code",
   "execution_count": null,
   "metadata": {},
   "outputs": [],
   "source": [
    "# Code for Synthesis"
   ]
  },
  {
   "cell_type": "markdown",
   "metadata": {},
   "source": [
    "## 5. Execution Layer\n",
    "\n",
    "The Execution Layer focuses on selecting and utilizing appropriate tools to carry out the task.\n",
    "\n",
    "```mermaid\n",
    "flowchart TD\n",
    "    N{Tool Selection} --> O[Workflow Automation]\n",
    "    N --> P[Search Tools]\n",
    "    N --> Q[Code Interpreter]\n",
    "```\n",
    "\n",
    "### 5.1 Tool Selection\n",
    "\n",
    "- Based on the task requirements, appropriate tools are selected from the available options.\n",
    "\n",
    "### 5.2 Tool Utilization\n",
    "\n",
    "The selected tools are used to execute the task:\n",
    "- Workflow Automation: For streamlining repetitive processes and enhancing efficiency.\n",
    "- Search Tools: To gather relevant information and resources.\n",
    "- Code Interpreter: To implement tasks that require coding or programming solutions.\n",
    "- Calendar Management: To maintain schedule integrity and alert the user to consequences of actions in the context of current workload.\n",
    "- Interagent Communication: To exchange information and requests between PExA agents.\n",
    "\n",
    "### 5.3 Execution Monitoring\n",
    "\n",
    "- Employ execution monitoring and prediction to reason about the course of a task's execution and adapt to unexpected events."
   ]
  },
  {
   "cell_type": "code",
   "execution_count": null,
   "metadata": {},
   "outputs": [],
   "source": [
    "# Code for Execution"
   ]
  },
  {
   "cell_type": "markdown",
   "metadata": {},
   "source": [
    "## 6. Output Layer\n",
    "\n",
    "The Output Layer evaluates the outcome, generates output, and ensures continuous improvement.\n",
    "\n",
    "```mermaid\n",
    "flowchart TD\n",
    "    R(Outcome Evaluation) -->|Successful| S[Output Generation]\n",
    "    R -->|Needs Improvement| T[Feedback Analysis]\n",
    "    T --> U[Continuous Improvement]\n",
    "    U --> B[Input Processing]\n",
    "    S --> V[Task Completion]\n",
    "```\n",
    "\n",
    "### 6.1 Outcome Evaluation\n",
    "\n",
    "- The result of the task execution is evaluated for success and quality.\n",
    "- Monitor task completion and evaluate outcomes for future improvements.\n",
    "\n",
    "### 6.2 Output Generation\n",
    "\n",
    "- If successful, the final output is generated and presented to the user.\n",
    "\n",
    "### 6.3 Feedback Analysis\n",
    "\n",
    "- If improvement is needed, feedback is analyzed to identify areas for enhancement.\n",
    "- Collect data on task performance and outcomes.\n",
    "\n",
    "### 6.4 Continuous Improvement\n",
    "\n",
    "- Insights from feedback are used to improve future processes, feeding back into the Input Processing stage.\n",
    "- Analyze results to refine strategies and enhance task management processes.\n",
    "- Incorporate user guidance on task-solving strategies and system autonomy.\n",
    "\n",
    "### 6.5 Task Completion\n",
    "\n",
    "- The task is marked as complete, and the system is ready for the next input."
   ]
  },
  {
   "cell_type": "code",
   "execution_count": null,
   "metadata": {},
   "outputs": [],
   "source": [
    "# Code for Output"
   ]
  }
 ],
 "metadata": {
  "kernelspec": {
   "display_name": ".venv",
   "language": "python",
   "name": "python3"
  },
  "language_info": {
   "codemirror_mode": {
    "name": "ipython",
    "version": 3
   },
   "file_extension": ".py",
   "mimetype": "text/x-python",
   "name": "python",
   "nbconvert_exporter": "python",
   "pygments_lexer": "ipython3",
   "version": "3.12.8"
  }
 },
 "nbformat": 4,
 "nbformat_minor": 2
}
