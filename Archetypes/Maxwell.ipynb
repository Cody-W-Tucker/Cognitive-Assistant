{
 "cells": [
  {
   "cell_type": "markdown",
   "metadata": {},
   "source": [
    "# Maxwell (Te) - Supervisor Task Manager Workflow\n",
    "\n",
    "## 1. Introduction\n",
    "\n",
    "Maxwell serves as the operational hub of the cognitive assistant, responsible for organizing and managing tasks to ensure they align with overarching existential goals. It utilizes systematic approaches to optimize productivity and drive progress, employing a structured workflow that encompasses input processing, multi-faceted task classification, goal-aligned synthesis, efficient execution, and continuous improvement through feedback analysis."
   ]
  },
  {
   "cell_type": "code",
   "execution_count": 1,
   "metadata": {},
   "outputs": [
    {
     "name": "stderr",
     "output_type": "stream",
     "text": [
      "/nix/store/faick5k40f2g3210clyk7sfb8wn71s6s-python3.12-pydantic-2.10.3/lib/python3.12/site-packages/pydantic/_internal/_config.py:345: UserWarning: Valid config keys have changed in V2:\n",
      "* 'fields' has been removed\n",
      "  warnings.warn(message, UserWarning)\n"
     ]
    }
   ],
   "source": [
    "import dspy\n",
    "import os\n",
    "from dotenv import load_dotenv\n",
    "\n",
    "load_dotenv()\n",
    "\n",
    "# Load the API key from the .env file\n",
    "OPENAI_API_KEY = os.getenv(\"OPENAI_API_KEY\")\n",
    "\n",
    "gpt_4o_mini = dspy.LM('openai/gpt-4o-mini', temperature=0.7)\n",
    "\n",
    "dspy.configure(lm=gpt_4o_mini)"
   ]
  },
  {
   "cell_type": "markdown",
   "metadata": {},
   "source": [
    "## 2. Input Layer\n",
    "\n",
    "The Input Layer is the starting point of the workflow, handling the initial reception and processing of tasks or queries.\n",
    "\n",
    "```mermaid\n",
    "flowchart LR\n",
    "    A[Input Received] --> B[Input Processing]\n",
    "```\n",
    "\n",
    "### 2.1 Input Received\n",
    "\n",
    "- The system receives a task or query from the user.\n",
    "\n",
    "### 2.2 Input Processing\n",
    "\n",
    "1. Classify: Can you complete the task or answer the question?\n",
    "    1. If so, return True and stop (answer the question or preform the task)\n",
    "    2. If not, return False and get more information (ask for clarity or preform web search)\n",
    "2. Classify: If we need to break this down and continue working\n",
    "    1. If so continue...\n",
    "3. Create a plan to answer the question or complete the task.\n",
    "    1. Return a step by step plan to complete the task or answer the question"
   ]
  },
  {
   "cell_type": "code",
   "execution_count": 2,
   "metadata": {},
   "outputs": [
    {
     "name": "stdout",
     "output_type": "stream",
     "text": [
      "The cognitive functions transformed into team members are:\n",
      "\n",
      "1. **Introverted Intuition (Ni)** - The Visionary\n",
      "2. **Extraverted Intuition (Ne)** - The Idea Generator\n",
      "3. **Introverted Sensing (Si)** - The Historian\n",
      "4. **Extraverted Sensing (Se)** - The Adventurer\n",
      "5. **Introverted Thinking (Ti)** - The Analyst\n",
      "6. **Extraverted Thinking (Te)** - The Organizer\n",
      "7. **Introverted Feeling (Fi)** - The Advocate\n",
      "8. **Extraverted Feeling (Fe)** - The Harmonizer\n"
     ]
    }
   ],
   "source": [
    "# Code for input processing, should check if it's a complete plan.\n",
    "\n",
    "# Define a module (ChainOfThought) and assign it a signature (return an answer, given a question).\n",
    "qa = dspy.ChainOfThought('question -> answer')\n",
    "\n",
    "# Run with the default LM configured with `dspy.configure` above.\n",
    "response = qa(question=\"Create a cognitive assistant. Transform the 8 cognitive functions into team members.\")\n",
    "print(response.answer)\n"
   ]
  },
  {
   "cell_type": "code",
   "execution_count": null,
   "metadata": {},
   "outputs": [
    {
     "data": {
      "text/plain": [
       "Prediction(\n",
       "    reasoning='The plan is well-structured and outlines specific roles that align with the cognitive functions, indicating a clear understanding of how to implement the team dynamics. The next step of extracting tasks is a logical progression that builds on the established roles, suggesting that the plan is ready for execution.',\n",
       "    readiness=True,\n",
       "    evidence={'roles': ['Introverted Intuition (Ni) - The Visionary', 'Extraverted Intuition (Ne) - The Idea Generator', 'Introverted Sensing (Si) - The Historian', 'Extraverted Sensing (Se) - The Adventurer', 'Introverted Thinking (Ti) - The Analyst', 'Extraverted Thinking (Te) - The Organizer', 'Introverted Feeling (Fi) - The Advocate', 'Extraverted Feeling (Fe) - The Harmonizer'], 'next_steps': ['Extract tasks for the plan']}\n",
       ")"
      ]
     },
     "execution_count": 3,
     "metadata": {},
     "output_type": "execute_result"
    }
   ],
   "source": [
    "# Check that the plan contains everything we need before getting started\n",
    "class checkPlanReadiness(dspy.Signature):\n",
    "    \"\"\"Verify plan readiness.\"\"\"\n",
    "\n",
    "    context: str = dspy.InputField(desc=\"plans here are assumed to be well thought out and ready to work on\")\n",
    "    text: str = dspy.InputField()\n",
    "    readiness: bool = dspy.OutputField()\n",
    "    evidence: dict[str, list[str]] = dspy.OutputField(desc=\"Supporting evidence for claims\")\n",
    "\n",
    "initial_plan = gpt_4o_mini.history[0]['response'].choices[0].message.content\n",
    "\n",
    "text = \"My next step is to extract all of the tasks for the plan\"\n",
    "\n",
    "readiness = dspy.ChainOfThought(checkPlanReadiness)\n",
    "readiness(context=initial_plan, text=text)\n"
   ]
  },
  {
   "cell_type": "code",
   "execution_count": 5,
   "metadata": {},
   "outputs": [
    {
     "name": "stdout",
     "output_type": "stream",
     "text": [
      "[[ ## reasoning ## ]]\n",
      "The plan to transform the 8 cognitive functions into team roles is well-structured and clearly outlines the characteristics and strengths of each role. Each function has been assigned a corresponding team member role, which demonstrates a comprehensive understanding of the cognitive functions and their application in a team setting. The next step of extracting tasks is a logical progression in the planning process, indicating readiness to move forward.\n",
      "\n",
      "[[ ## readiness ## ]]\n",
      "True\n",
      "\n",
      "[[ ## evidence ## ]]\n",
      "{\"type\": \"object\", \"additionalProperties\": {\"type\": \"array\", \"items\": {\"type\": \"string\"}}, \"evidence\": {\"Roles Defined\": [\"The Visionary (Ni)\", \"The Idea Generator (Ne)\", \"The Historian (Si)\", \"The Adventurer (Se)\", \"The Analyst (Ti)\", \"The Organizer (Te)\", \"The Advocate (Fi)\", \"The Harmonizer (Fe)\"], \"Next Steps\": [\"Extract tasks for implementation\"]}}\n",
      "\n",
      "[[ ## completed ## ]]\n"
     ]
    }
   ],
   "source": [
    "print(gpt_4o_mini.history[1]['response'].choices[0].message.content)"
   ]
  },
  {
   "cell_type": "code",
   "execution_count": 10,
   "metadata": {},
   "outputs": [
    {
     "data": {
      "text/plain": [
       "['1. Define the roles based on cognitive functions:\\n   - Create detailed descriptions for each role: Visionary, Idea Generator, Historian, Adventurer, Analyst, Organizer, Advocate, Harmonizer.\\n   \\n2. Develop a team structure:\\n   - Assign team members to each role based on their strengths and preferences.\\n   - Ensure a balanced representation of all cognitive functions within the team.\\n\\n3. Establish team objectives:\\n   - Identify short-term and long-term goals for the team.\\n   - Align team objectives with the strengths of each cognitive function.\\n\\n4. Create a collaboration plan:\\n   - Outline how team members will work together based on their roles.\\n   - Schedule regular meetings for brainstorming (led by Ne), strategic planning (led by Ni), and performance reviews (led by Te).\\n\\n5. Foster team culture:\\n   - Encourage the Advocate (Fi) and Harmonizer (Fe) to lead team-building activities.\\n   - Promote open communication and feedback among all team members.\\n\\n6. Monitor and evaluate performance:\\n   - Set metrics to evaluate the effectiveness of each role in achieving team goals.\\n   - Regularly assess team dynamics and make adjustments as needed.\\n\\n7. Provide training and development:\\n   - Offer opportunities for team members to develop skills aligned with their cognitive functions.\\n   - Encourage cross-training so team members can appreciate and understand other roles.']"
      ]
     },
     "execution_count": 10,
     "metadata": {},
     "output_type": "execute_result"
    }
   ],
   "source": [
    "plan_thoughts = gpt_4o_mini.history[0]['response'].choices[0].message.content\n",
    "\n",
    "# 1) Declare with a signature, and pass some config.\n",
    "create_plan = dspy.ChainOfThought('plan_thoughts -> detailed_task_list')\n",
    "\n",
    "# 2) Call with input argument.\n",
    "response = create_plan(plan_thoughts=plan_thoughts)\n",
    "\n",
    "# 3) Access the outputs.\n",
    "response.completions.detailed_task_list"
   ]
  },
  {
   "cell_type": "code",
   "execution_count": 17,
   "metadata": {},
   "outputs": [
    {
     "name": "stdout",
     "output_type": "stream",
     "text": [
      "[[ ## reasoning ## ]]\n",
      "To effectively transform the 8 cognitive functions into team members, we need to clearly define each role based on their unique characteristics and strengths. This will allow us to establish a balanced team dynamic where each member contributes to the team's success. The defined roles help in understanding how each function operates and interacts with others, ensuring that all perspectives are represented in team discussions and decision-making processes.\n",
      "\n",
      "[[ ## detailed_task_list ## ]]\n",
      "1. Define the roles based on cognitive functions:\n",
      "   - Create detailed descriptions for each role: Visionary, Idea Generator, Historian, Adventurer, Analyst, Organizer, Advocate, Harmonizer.\n",
      "   \n",
      "2. Develop a team structure:\n",
      "   - Assign team members to each role based on their strengths and preferences.\n",
      "   - Ensure a balanced representation of all cognitive functions within the team.\n",
      "\n",
      "3. Establish team objectives:\n",
      "   - Identify short-term and long-term goals for the team.\n",
      "   - Align team objectives with the strengths of each cognitive function.\n",
      "\n",
      "4. Create a collaboration plan:\n",
      "   - Outline how team members will work together based on their roles.\n",
      "   - Schedule regular meetings for brainstorming (led by Ne), strategic planning (led by Ni), and performance reviews (led by Te).\n",
      "\n",
      "5. Foster team culture:\n",
      "   - Encourage the Advocate (Fi) and Harmonizer (Fe) to lead team-building activities.\n",
      "   - Promote open communication and feedback among all team members.\n",
      "\n",
      "6. Monitor and evaluate performance:\n",
      "   - Set metrics to evaluate the effectiveness of each role in achieving team goals.\n",
      "   - Regularly assess team dynamics and make adjustments as needed.\n",
      "\n",
      "7. Provide training and development:\n",
      "   - Offer opportunities for team members to develop skills aligned with their cognitive functions.\n",
      "   - Encourage cross-training so team members can appreciate and understand other roles.\n",
      "\n",
      "[[ ## completed ## ]]\n"
     ]
    }
   ],
   "source": [
    "print(gpt_4o_mini.history[6]['response'].choices[0].message.content)"
   ]
  },
  {
   "cell_type": "markdown",
   "metadata": {},
   "source": [
    "## 3. Classification Layer\n",
    "\n",
    "The Classification Layer analyzes the processed input from multiple perspectives to gain a comprehensive understanding of the task.\n",
    "\n",
    "```mermaid\n",
    "flowchart TD\n",
    "    C{Task Classification} --> D[Sophia: Strategic Vision]\n",
    "    C --> E[Isabella: Ethical Considerations]\n",
    "    C --> F[Evelyn: Logical Analysis]\n",
    "    C --> G[Serena: Real-time Data]\n",
    "    C --> H[Diana: Historical Context]\n",
    "    C --> I[Nova: Creative Ideas]\n",
    "```\n",
    "\n",
    "### 3.1 Task Classification\n",
    "\n",
    "- The processed input is classified to determine its nature, urgency, and requirements.\n",
    "- Prioritize tasks based on urgency and importance.\n",
    "\n",
    "### 3.2 Multiple Perspectives Analysis\n",
    "\n",
    "The task is analyzed from different viewpoints:\n",
    "- Sophia: Evaluates the strategic implications and long-term vision.\n",
    "- Isabella: Considers ethical aspects and potential moral implications.\n",
    "- Evelyn: Performs logical analysis and structured problem-solving.\n",
    "- Serena: Incorporates real-time data and current context.\n",
    "- Diana: Provides historical context and past experiences.\n",
    "- Nova: Offers creative and innovative approaches.\n"
   ]
  },
  {
   "cell_type": "code",
   "execution_count": null,
   "metadata": {},
   "outputs": [],
   "source": [
    "# Code for Classification"
   ]
  },
  {
   "cell_type": "markdown",
   "metadata": {},
   "source": [
    "## 4. Synthesis Layer\n",
    "\n",
    "The Synthesis Layer combines the classified information and ensures alignment with overall goals.\n",
    "\n",
    "```mermaid\n",
    "flowchart TD\n",
    "    J(Task Synthesis) --> K[Goal Alignment Check]\n",
    "    K -->|Aligned| L(Execution Planning)\n",
    "    K -->|Not Aligned| M[Reassessment]\n",
    "    M --> J\n",
    "```\n",
    "\n",
    "### 4.1 Task Synthesis\n",
    "\n",
    "- Information from various perspectives is combined to form a comprehensive understanding of the task.\n",
    "- Create a structured workflow that outlines task dependencies and sequences.\n",
    "\n",
    "### 4.2 Goal Alignment Check\n",
    "\n",
    "- The synthesized task is checked against overall goals and objectives of the system.\n",
    "- Continuously assess tasks against long-term missions and values.\n",
    "- Ensure that each task contributes to the overall objectives of the assistant.\n",
    "\n",
    "### 4.3 Execution Planning\n",
    "\n",
    "- If aligned, an execution plan is created, outlining steps, resources, and timelines.\n",
    "- Make recommendations to eliminate problems and work with the user to implement those recommendations.\n",
    "\n",
    "### 4.4 Reassessment\n",
    "\n",
    "- If not aligned, the task is reassessed, and the process loops back to synthesis."
   ]
  },
  {
   "cell_type": "code",
   "execution_count": null,
   "metadata": {},
   "outputs": [],
   "source": [
    "# Code for Synthesis"
   ]
  },
  {
   "cell_type": "markdown",
   "metadata": {},
   "source": [
    "## 5. Execution Layer\n",
    "\n",
    "The Execution Layer focuses on selecting and utilizing appropriate tools to carry out the task.\n",
    "\n",
    "```mermaid\n",
    "flowchart TD\n",
    "    N{Tool Selection} --> O[Workflow Automation]\n",
    "    N --> P[Search Tools]\n",
    "    N --> Q[Code Interpreter]\n",
    "```\n",
    "\n",
    "### 5.1 Tool Selection\n",
    "\n",
    "- Based on the task requirements, appropriate tools are selected from the available options.\n",
    "\n",
    "### 5.2 Tool Utilization\n",
    "\n",
    "The selected tools are used to execute the task:\n",
    "- Workflow Automation: For streamlining repetitive processes and enhancing efficiency.\n",
    "- Search Tools: To gather relevant information and resources.\n",
    "- Code Interpreter: To implement tasks that require coding or programming solutions.\n",
    "- Calendar Management: To maintain schedule integrity and alert the user to consequences of actions in the context of current workload.\n",
    "- Interagent Communication: To exchange information and requests between PExA agents.\n",
    "\n",
    "### 5.3 Execution Monitoring\n",
    "\n",
    "- Employ execution monitoring and prediction to reason about the course of a task's execution and adapt to unexpected events."
   ]
  },
  {
   "cell_type": "code",
   "execution_count": null,
   "metadata": {},
   "outputs": [],
   "source": [
    "# Code for Execution"
   ]
  },
  {
   "cell_type": "markdown",
   "metadata": {},
   "source": [
    "## 6. Output Layer\n",
    "\n",
    "The Output Layer evaluates the outcome, generates output, and ensures continuous improvement.\n",
    "\n",
    "```mermaid\n",
    "flowchart TD\n",
    "    R(Outcome Evaluation) -->|Successful| S[Output Generation]\n",
    "    R -->|Needs Improvement| T[Feedback Analysis]\n",
    "    T --> U[Continuous Improvement]\n",
    "    U --> B[Input Processing]\n",
    "    S --> V[Task Completion]\n",
    "```\n",
    "\n",
    "### 6.1 Outcome Evaluation\n",
    "\n",
    "- The result of the task execution is evaluated for success and quality.\n",
    "- Monitor task completion and evaluate outcomes for future improvements.\n",
    "\n",
    "### 6.2 Output Generation\n",
    "\n",
    "- If successful, the final output is generated and presented to the user.\n",
    "\n",
    "### 6.3 Feedback Analysis\n",
    "\n",
    "- If improvement is needed, feedback is analyzed to identify areas for enhancement.\n",
    "- Collect data on task performance and outcomes.\n",
    "\n",
    "### 6.4 Continuous Improvement\n",
    "\n",
    "- Insights from feedback are used to improve future processes, feeding back into the Input Processing stage.\n",
    "- Analyze results to refine strategies and enhance task management processes.\n",
    "- Incorporate user guidance on task-solving strategies and system autonomy.\n",
    "\n",
    "### 6.5 Task Completion\n",
    "\n",
    "- The task is marked as complete, and the system is ready for the next input."
   ]
  },
  {
   "cell_type": "code",
   "execution_count": null,
   "metadata": {},
   "outputs": [],
   "source": [
    "# Code for Output"
   ]
  }
 ],
 "metadata": {
  "kernelspec": {
   "display_name": ".venv",
   "language": "python",
   "name": "python3"
  },
  "language_info": {
   "codemirror_mode": {
    "name": "ipython",
    "version": 3
   },
   "file_extension": ".py",
   "mimetype": "text/x-python",
   "name": "python",
   "nbconvert_exporter": "python",
   "pygments_lexer": "ipython3",
   "version": "3.12.8"
  }
 },
 "nbformat": 4,
 "nbformat_minor": 2
}
